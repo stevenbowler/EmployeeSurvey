{
  "nbformat": 4,
  "nbformat_minor": 0,
  "metadata": {
    "colab": {
      "provenance": [],
      "authorship_tag": "ABX9TyM+AsKui+ghbaVvHHBygIOF",
      "include_colab_link": true
    },
    "kernelspec": {
      "name": "python3",
      "display_name": "Python 3"
    },
    "language_info": {
      "name": "python"
    }
  },
  "cells": [
    {
      "cell_type": "markdown",
      "metadata": {
        "id": "view-in-github",
        "colab_type": "text"
      },
      "source": [
        "<a href=\"https://colab.research.google.com/github/stevenbowler/EmployeeSurvey/blob/main/UploadFoldersToGrokCollection.ipynb\" target=\"_parent\"><img src=\"https://colab.research.google.com/assets/colab-badge.svg\" alt=\"Open In Colab\"/></a>"
      ]
    },
    {
      "cell_type": "code",
      "execution_count": null,
      "metadata": {
        "id": "hu6vZmALiAlo"
      },
      "outputs": [],
      "source": [
        "import os\n",
        "from xai_sdk import Client  # Or use openai: from openai import OpenAI\n",
        "\n",
        "# Config\n",
        "API_KEY = \"your_xai_api_key_here\"  # From console.x.ai\n",
        "COLLECTION_ID = \"your_collection_id_here\"  # From collection details\n",
        "FOLDER_PATH = \"/path/to/your/main/folder\"  # Local path to your root folder\n",
        "\n",
        "# Initialize client (xAI SDK)\n",
        "client = Client(api_key=API_KEY)\n",
        "\n",
        "# Function to upload a single file with metadata\n",
        "def upload_file(file_path, collection_id):\n",
        "    with open(file_path, \"rb\") as f:\n",
        "        # Upload the file (gets a File ID)\n",
        "        file = client.files.create(\n",
        "            file=f,\n",
        "            purpose=\"assistants\"  # For collections/RAG\n",
        "        )\n",
        "\n",
        "    # Add to collection with metadata for structure\n",
        "    client.collections.add_file(\n",
        "        collection_id=collection_id,\n",
        "        file_id=file.id,\n",
        "        metadata={\n",
        "            \"original_path\": file_path.replace(FOLDER_PATH, \"\").lstrip(\"/\"),  # e.g., \"subfolder1/document.pdf\"\n",
        "            \"file_type\": os.path.splitext(file_path)[1]\n",
        "        }\n",
        "    )\n",
        "    print(f\"Uploaded: {file_path} (File ID: {file.id})\")\n",
        "\n",
        "# Walk through folder structure\n",
        "for root, dirs, files in os.walk(FOLDER_PATH):\n",
        "    for file in files:\n",
        "        file_path = os.path.join(root, file)\n",
        "        if file_path.lower().endswith(('.pdf', '.txt', '.md', '.docx')):  # Filter supported types\n",
        "            upload_file(file_path, COLLECTION_ID)\n",
        "\n",
        "print(\"Upload complete! Check your collection in the console.\")"
      ]
    }
  ]
}