{
  "nbformat": 4,
  "nbformat_minor": 0,
  "metadata": {
    "colab": {
      "provenance": [],
      "authorship_tag": "ABX9TyOUEtLkDCI+9Wwc/ByoEIJL",
      "include_colab_link": true
    },
    "kernelspec": {
      "name": "python3",
      "display_name": "Python 3"
    },
    "language_info": {
      "name": "python"
    }
  },
  "cells": [
    {
      "cell_type": "markdown",
      "metadata": {
        "id": "view-in-github",
        "colab_type": "text"
      },
      "source": [
        "<a href=\"https://colab.research.google.com/github/stevenbowler/EmployeeSurvey/blob/main/UploadFoldersToGrokCollection.ipynb\" target=\"_parent\"><img src=\"https://colab.research.google.com/assets/colab-badge.svg\" alt=\"Open In Colab\"/></a>"
      ]
    },
    {
      "cell_type": "code",
      "source": [
        "!pip install xai-sdk"
      ],
      "metadata": {
        "colab": {
          "base_uri": "https://localhost:8080/"
        },
        "id": "g1TXT_20j--m",
        "outputId": "378bb5f6-0884-42f2-dc50-e8fe9d13bda6"
      },
      "execution_count": 2,
      "outputs": [
        {
          "output_type": "stream",
          "name": "stdout",
          "text": [
            "Collecting xai-sdk\n",
            "  Downloading xai_sdk-1.3.1-py3-none-any.whl.metadata (26 kB)\n",
            "Requirement already satisfied: aiohttp<4,>=3.8.6 in /usr/local/lib/python3.12/dist-packages (from xai-sdk) (3.13.1)\n",
            "Requirement already satisfied: grpcio<2,>=1.72.1 in /usr/local/lib/python3.12/dist-packages (from xai-sdk) (1.76.0)\n",
            "Requirement already satisfied: opentelemetry-sdk<2,>=1.36.0 in /usr/local/lib/python3.12/dist-packages (from xai-sdk) (1.37.0)\n",
            "Requirement already satisfied: packaging<26,>=25.0 in /usr/local/lib/python3.12/dist-packages (from xai-sdk) (25.0)\n",
            "Requirement already satisfied: protobuf<7,>=5.29.4 in /usr/local/lib/python3.12/dist-packages (from xai-sdk) (5.29.5)\n",
            "Requirement already satisfied: pydantic<3,>=2.5.3 in /usr/local/lib/python3.12/dist-packages (from xai-sdk) (2.11.10)\n",
            "Requirement already satisfied: requests<3,>=2.31.0 in /usr/local/lib/python3.12/dist-packages (from xai-sdk) (2.32.4)\n",
            "Requirement already satisfied: aiohappyeyeballs>=2.5.0 in /usr/local/lib/python3.12/dist-packages (from aiohttp<4,>=3.8.6->xai-sdk) (2.6.1)\n",
            "Requirement already satisfied: aiosignal>=1.4.0 in /usr/local/lib/python3.12/dist-packages (from aiohttp<4,>=3.8.6->xai-sdk) (1.4.0)\n",
            "Requirement already satisfied: attrs>=17.3.0 in /usr/local/lib/python3.12/dist-packages (from aiohttp<4,>=3.8.6->xai-sdk) (25.4.0)\n",
            "Requirement already satisfied: frozenlist>=1.1.1 in /usr/local/lib/python3.12/dist-packages (from aiohttp<4,>=3.8.6->xai-sdk) (1.8.0)\n",
            "Requirement already satisfied: multidict<7.0,>=4.5 in /usr/local/lib/python3.12/dist-packages (from aiohttp<4,>=3.8.6->xai-sdk) (6.7.0)\n",
            "Requirement already satisfied: propcache>=0.2.0 in /usr/local/lib/python3.12/dist-packages (from aiohttp<4,>=3.8.6->xai-sdk) (0.4.1)\n",
            "Requirement already satisfied: yarl<2.0,>=1.17.0 in /usr/local/lib/python3.12/dist-packages (from aiohttp<4,>=3.8.6->xai-sdk) (1.22.0)\n",
            "Requirement already satisfied: typing-extensions~=4.12 in /usr/local/lib/python3.12/dist-packages (from grpcio<2,>=1.72.1->xai-sdk) (4.15.0)\n",
            "Requirement already satisfied: opentelemetry-api==1.37.0 in /usr/local/lib/python3.12/dist-packages (from opentelemetry-sdk<2,>=1.36.0->xai-sdk) (1.37.0)\n",
            "Requirement already satisfied: opentelemetry-semantic-conventions==0.58b0 in /usr/local/lib/python3.12/dist-packages (from opentelemetry-sdk<2,>=1.36.0->xai-sdk) (0.58b0)\n",
            "Requirement already satisfied: importlib-metadata<8.8.0,>=6.0 in /usr/local/lib/python3.12/dist-packages (from opentelemetry-api==1.37.0->opentelemetry-sdk<2,>=1.36.0->xai-sdk) (8.7.0)\n",
            "Requirement already satisfied: annotated-types>=0.6.0 in /usr/local/lib/python3.12/dist-packages (from pydantic<3,>=2.5.3->xai-sdk) (0.7.0)\n",
            "Requirement already satisfied: pydantic-core==2.33.2 in /usr/local/lib/python3.12/dist-packages (from pydantic<3,>=2.5.3->xai-sdk) (2.33.2)\n",
            "Requirement already satisfied: typing-inspection>=0.4.0 in /usr/local/lib/python3.12/dist-packages (from pydantic<3,>=2.5.3->xai-sdk) (0.4.2)\n",
            "Requirement already satisfied: charset_normalizer<4,>=2 in /usr/local/lib/python3.12/dist-packages (from requests<3,>=2.31.0->xai-sdk) (3.4.4)\n",
            "Requirement already satisfied: idna<4,>=2.5 in /usr/local/lib/python3.12/dist-packages (from requests<3,>=2.31.0->xai-sdk) (3.11)\n",
            "Requirement already satisfied: urllib3<3,>=1.21.1 in /usr/local/lib/python3.12/dist-packages (from requests<3,>=2.31.0->xai-sdk) (2.5.0)\n",
            "Requirement already satisfied: certifi>=2017.4.17 in /usr/local/lib/python3.12/dist-packages (from requests<3,>=2.31.0->xai-sdk) (2025.10.5)\n",
            "Requirement already satisfied: zipp>=3.20 in /usr/local/lib/python3.12/dist-packages (from importlib-metadata<8.8.0,>=6.0->opentelemetry-api==1.37.0->opentelemetry-sdk<2,>=1.36.0->xai-sdk) (3.23.0)\n",
            "Downloading xai_sdk-1.3.1-py3-none-any.whl (161 kB)\n",
            "\u001b[2K   \u001b[90m━━━━━━━━━━━━━━━━━━━━━━━━━━━━━━━━━━━━━━━━\u001b[0m \u001b[32m161.1/161.1 kB\u001b[0m \u001b[31m6.3 MB/s\u001b[0m eta \u001b[36m0:00:00\u001b[0m\n",
            "\u001b[?25hInstalling collected packages: xai-sdk\n",
            "Successfully installed xai-sdk-1.3.1\n"
          ]
        }
      ]
    },
    {
      "cell_type": "code",
      "source": [
        "# Dependancies\n",
        "import os\n",
        "from xai_sdk import Client  # Or use openai: from openai import OpenAI\n",
        "from google.colab import userdata"
      ],
      "metadata": {
        "id": "_He7eZqPikWJ"
      },
      "execution_count": 3,
      "outputs": []
    },
    {
      "cell_type": "code",
      "source": [
        "# Config\n",
        "API_KEY = userdata.get('XAI_API_KEY')  # From console.x.ai\n",
        "COLLECTION_ID = userdata.get('GROK_EMPLOYEE_SURVEY_COLLECTION')  # From collection details\n",
        "FOLDER_PATH = userdata.get('PDF_FOLDER_PATH')  # Local path to your root folder"
      ],
      "metadata": {
        "id": "tL80Oc77ijOv"
      },
      "execution_count": 10,
      "outputs": []
    },
    {
      "cell_type": "code",
      "execution_count": 11,
      "metadata": {
        "colab": {
          "base_uri": "https://localhost:8080/"
        },
        "id": "hu6vZmALiAlo",
        "outputId": "4ca7816a-cee1-4fb6-8b7b-9227a9b81aee"
      },
      "outputs": [
        {
          "output_type": "stream",
          "name": "stdout",
          "text": [
            "Upload complete! Check your collection in the console.\n"
          ]
        }
      ],
      "source": [
        "# Initialize client (xAI SDK)\n",
        "client = Client(api_key=API_KEY)\n",
        "\n",
        "# Function to upload a single file with metadata\n",
        "def upload_file(file_path, collection_id):\n",
        "    with open(file_path, \"rb\") as f:\n",
        "        # Upload the file (gets a File ID)\n",
        "        file = client.files.create(\n",
        "            file=f,\n",
        "            purpose=\"assistants\"  # For collections/RAG\n",
        "        )\n",
        "\n",
        "    # Add to collection with metadata for structure\n",
        "    client.collections.add_file(\n",
        "        collection_id=collection_id,\n",
        "        file_id=file.id,\n",
        "        metadata={\n",
        "            \"original_path\": file_path.replace(FOLDER_PATH, \"\").lstrip(\"/\"),  # e.g., \"subfolder1/document.pdf\"\n",
        "            \"file_type\": os.path.splitext(file_path)[1]\n",
        "        }\n",
        "    )\n",
        "    print(f\"Uploaded: {file_path} (File ID: {file.id})\")\n",
        "\n",
        "# Walk through folder structure\n",
        "for root, dirs, files in os.walk(FOLDER_PATH):\n",
        "    for file in files:\n",
        "        file_path = os.path.join(root, file)\n",
        "        if file_path.lower().endswith(('.pdf', '.txt', '.md', '.docx')):  # Filter supported types\n",
        "            upload_file(file_path, COLLECTION_ID)\n",
        "\n",
        "print(\"Upload complete! Check your collection in the console.\")"
      ]
    }
  ]
}