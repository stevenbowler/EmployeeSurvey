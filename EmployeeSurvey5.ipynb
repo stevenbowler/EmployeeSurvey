{
  "nbformat": 4,
  "nbformat_minor": 0,
  "metadata": {
    "colab": {
      "provenance": [],
      "authorship_tag": "ABX9TyNLxetlmfvfZTe+wJxUFqBZ",
      "include_colab_link": true
    },
    "kernelspec": {
      "name": "python3",
      "display_name": "Python 3"
    },
    "language_info": {
      "name": "python"
    }
  },
  "cells": [
    {
      "cell_type": "markdown",
      "metadata": {
        "id": "view-in-github",
        "colab_type": "text"
      },
      "source": [
        "<a href=\"https://colab.research.google.com/github/stevenbowler/EmployeeSurvey/blob/main/EmployeeSurvey5.ipynb\" target=\"_parent\"><img src=\"https://colab.research.google.com/assets/colab-badge.svg\" alt=\"Open In Colab\"/></a>"
      ]
    },
    {
      "cell_type": "code",
      "execution_count": null,
      "metadata": {
        "id": "MlCABm0GhDO_"
      },
      "outputs": [],
      "source": [
        "!apt-get update -qq\n",
        "!apt-get install -y poppler-utils -qq\n",
        "!pip install -q pdf2image huggingface_hub opencv-python pandas matplotlib openai"
      ]
    },
    {
      "cell_type": "code",
      "source": [
        "import os, glob, cv2, numpy as np, json\n",
        "from pathlib import Path\n",
        "from collections import defaultdict\n",
        "from pdf2image import convert_from_path\n",
        "from huggingface_hub import snapshot_download\n",
        "from openai import OpenAI\n",
        "import matplotlib.pyplot as plt\n",
        "import pandas as pd\n",
        "from google.colab import userdata"
      ],
      "metadata": {
        "id": "uUm_69Sdhry_"
      },
      "execution_count": null,
      "outputs": []
    },
    {
      "cell_type": "code",
      "source": [
        "HF_TOKEN   = userdata.get('HF_TOKEN')      # your HF token\n",
        "REPO_ID    = userdata.get('REPO_ID')       # e.g. \"yourname/survey-pdfs\"\n",
        "PDF_DIR    = \"/content/survey_pdfs\"\n",
        "\n",
        "os.makedirs(PDF_DIR, exist_ok=True)\n",
        "\n",
        "pdf_dir = snapshot_download(\n",
        "    repo_id=REPO_ID,\n",
        "    token=HF_TOKEN,\n",
        "    local_dir=PDF_DIR,\n",
        "    repo_type=\"dataset\",\n",
        "    allow_patterns=[\"*.pdf\"],\n",
        "    ignore_patterns=[\"*.json\",\"*.md\",\"*config*\"]\n",
        ")\n",
        "\n",
        "pdf_paths = sorted(glob.glob(f\"{pdf_dir}/**/*.pdf\", recursive=True))\n",
        "print(f\"Downloaded {len(pdf_paths)} PDFs\")"
      ],
      "metadata": {
        "id": "abIbwZovht28"
      },
      "execution_count": null,
      "outputs": []
    },
    {
      "cell_type": "code",
      "source": [
        "# DPI = 300 → image size ≈ 2480 × 3500 px\n",
        "COLS = {\n",
        "    'A': (750, 38, 38),   # x, w, h\n",
        "    'B': (910, 38, 38),\n",
        "    'C': (1070, 38, 38),\n",
        "    'D': (1230, 38, 38)\n",
        "}\n",
        "\n",
        "# Y positions for Q1-20 (page 1)\n",
        "Y_PAGE1 = [\n",
        "    208, 253, 298, 343, 388,\n",
        "    433, 478, 523, 568, 613,\n",
        "    658, 703, 748, 793, 838,\n",
        "    883, 928, 973,1018,1063\n",
        "]\n",
        "\n",
        "# Build ROIs for page 1\n",
        "ROIS_PAGE1 = {}\n",
        "for q, y in enumerate(Y_PAGE1, 1):\n",
        "    ROIS_PAGE1[q] = {\n",
        "        'A': (COLS['A'][0], y, COLS['A'][1], COLS['A'][2]),\n",
        "        'B': (COLS['B'][0], y, COLS['B'][1], COLS['B'][2]),\n",
        "        'C': (COLS['C'][0], y, COLS['C'][1], COLS['C'][2]),\n",
        "        'D': (COLS['D'][0], y, COLS['D'][1], COLS['D'][2]),\n",
        "    }\n",
        "\n",
        "# Page 2 (Q21-23) – same spacing\n",
        "ROIS_PAGE2 = {\n",
        "    21: {k: (v[0], 208, v[1], v[2]) for k, v in ROIS_PAGE1[1].items()},\n",
        "    22: {k: (v[0], 253, v[1], v[2]) for k, v in ROIS_PAGE1[1].items()},\n",
        "    23: {k: (v[0], 298, v[1], v[2]) for k, v in ROIS_PAGE1[1].items()},\n",
        "}"
      ],
      "metadata": {
        "id": "CnDjOZhyhvkF"
      },
      "execution_count": null,
      "outputs": []
    },
    {
      "cell_type": "code",
      "source": [
        "def preprocess(img):\n",
        "    gray = cv2.cvtColor(img, cv2.COLOR_BGR2GRAY)\n",
        "    eq = cv2.equalizeHist(gray)\n",
        "    clahe = cv2.createCLAHE(clipLimit=3.0, tileGridSize=(8,8))\n",
        "    enhanced = clahe.apply(eq)\n",
        "    kernel = np.ones((5,5), np.uint8)\n",
        "    closed = cv2.morphologyEx(enhanced, cv2.MORPH_CLOSE, kernel)\n",
        "    thresh = cv2.adaptiveThreshold(closed, 255, cv2.ADAPTIVE_THRESH_GAUSSIAN_C,\n",
        "                                   cv2.THRESH_BINARY_INV, 41, 12)\n",
        "    return thresh"
      ],
      "metadata": {
        "id": "iUid9aW1hxMR"
      },
      "execution_count": null,
      "outputs": []
    },
    {
      "cell_type": "code",
      "source": [
        "def is_filled(roi, thresh, ratio=0.35):\n",
        "    x, y, w, h = roi\n",
        "    crop = thresh[y:y+h, x:x+w]\n",
        "    if crop.size == 0: return False\n",
        "    return np.sum(crop == 0) / (w*h) >= ratio"
      ],
      "metadata": {
        "id": "vd7NQcr8hypk"
      },
      "execution_count": null,
      "outputs": []
    },
    {
      "cell_type": "code",
      "source": [
        "def extract(pdf_path):\n",
        "    pages = convert_from_path(pdf_path, dpi=300)\n",
        "    answers = ['X'] * 23\n",
        "\n",
        "    # Page 1 (Q1-20)\n",
        "    if len(pages) > 0:\n",
        "        img = cv2.cvtColor(np.array(pages[0]), cv2.COLOR_RGB2BGR)\n",
        "        thresh = preprocess(img)\n",
        "        for q in range(1, 21):\n",
        "            rois = ROIS_PAGE1[q]\n",
        "            for choice in 'ABCD':\n",
        "                if is_filled(rois[choice], thresh):\n",
        "                    answers[q-1] = choice\n",
        "                    break\n",
        "\n",
        "    # Page 2 (Q21-23)\n",
        "    if len(pages) > 1:\n",
        "        img2 = cv2.cvtColor(np.array(pages[1]), cv2.COLOR_RGB2BGR)\n",
        "        thresh2 = preprocess(img2)\n",
        "        for q in range(21, 24):\n",
        "            rois = ROIS_PAGE2[q]\n",
        "            for choice in 'ABCD':\n",
        "                if is_filled(rois[choice], thresh2):\n",
        "                    answers[q-1] = choice\n",
        "                    break\n",
        "\n",
        "    return answers"
      ],
      "metadata": {
        "id": "dYU-NKyMh52W"
      },
      "execution_count": null,
      "outputs": []
    },
    {
      "cell_type": "code",
      "source": [
        "all_answers = []\n",
        "for i, p in enumerate(pdf_paths, 1):\n",
        "    print(f\"[{i}/{len(pdf_paths)}] {Path(p).name}\")\n",
        "    ans = extract(p)\n",
        "    all_answers.append(ans)\n",
        "    print(\" →\", \"\".join(ans))\n",
        "\n",
        "print(f\"\\nParsed {len(all_answers)} PDFs\")"
      ],
      "metadata": {
        "id": "nddSKpLEh-Fc"
      },
      "execution_count": null,
      "outputs": []
    },
    {
      "cell_type": "markdown",
      "source": [
        "Expected output for Accounting_1.pdf\n",
        " → ABABCBDXAADBCAXXACBDBAD"
      ],
      "metadata": {
        "id": "12Uz88cNiAR0"
      }
    },
    {
      "cell_type": "code",
      "source": [
        "stats = defaultdict(lambda: defaultdict(int))\n",
        "for row in all_answers:\n",
        "    for q, ch in enumerate(row, 1):\n",
        "        if ch != 'X':\n",
        "            stats[q][ch] += 1\n",
        "\n",
        "percentages = {}\n",
        "for q, cnt in stats.items():\n",
        "    tot = sum(cnt.values())\n",
        "    per = {c: round(v/tot*100, 1) for c, v in cnt.items()}\n",
        "    percentages[q] = dict(sorted(per.items(), key=lambda x: -x[1]))\n",
        "\n",
        "print(\"\\nRESULTS:\")\n",
        "for q in sorted(percentages):\n",
        "    print(f\"Q{q:02d}: {percentages[q]}\")"
      ],
      "metadata": {
        "id": "QnEv2SxIiCX9"
      },
      "execution_count": null,
      "outputs": []
    },
    {
      "cell_type": "code",
      "source": [
        "XAI_API_KEY = userdata.get('XAI_API_KEY')\n",
        "client = OpenAI(api_key=XAI_API_KEY, base_url=\"https://api.x.ai/v1\")\n",
        "\n",
        "summary_prompt = f\"\"\"You are a data-analyst.\n",
        "Aggregated results from {len(all_answers)} employees (23 questions, A=Strongly Agree … D=Strongly Disagree).\n",
        "\n",
        "Percentages (top first):\n",
        "{json.dumps(percentages, indent=2)}\n",
        "\n",
        "Write a concise markdown report with:\n",
        "1. Overall insights\n",
        "2. Table of top answer per question\n",
        "3. Patterns / anomalies\n",
        "4. Visual description\n",
        "5. 3 actionable recommendations\n",
        "\"\"\"\n",
        "\n",
        "resp = client.chat.completions.create(\n",
        "    model=\"grok-4\",\n",
        "    messages=[{\"role\":\"user\",\"content\":summary_prompt}],\n",
        "    max_tokens=1500,\n",
        "    temperature=0.3\n",
        ")\n",
        "print(\"\\n### Grok-4 Report\")\n",
        "print(resp.choices[0].message.content)"
      ],
      "metadata": {
        "id": "YGSp5jjIiKdS"
      },
      "execution_count": null,
      "outputs": []
    },
    {
      "cell_type": "code",
      "source": [
        "fig, axs = plt.subplots(5, 5, figsize=(20, 20))\n",
        "axs = axs.ravel()\n",
        "colors = {'A':'#2ca02c','B':'#1f77b4','C':'#ff7f0e','D':'#d62728'}\n",
        "for i, (q, per) in enumerate(sorted(percentages.items())):\n",
        "    ch, val = list(per.keys()), list(per.values())\n",
        "    axs[i].bar(ch, val, color=[colors.get(c,'gray') for c in ch])\n",
        "    axs[i].set_title(f'Q{q}')\n",
        "    axs[i].set_ylim(0,100)\n",
        "for ax in axs[len(percentages):]: ax.axis('off')\n",
        "plt.tight_layout()\n",
        "plt.show()\n",
        "\n",
        "df = pd.DataFrame.from_dict(percentages, orient='index').fillna(0)\n",
        "csv_path = f\"{PDF_DIR}/survey_results.csv\"\n",
        "df.to_csv(csv_path)\n",
        "print(f\"CSV saved → {csv_path}\")"
      ],
      "metadata": {
        "id": "cqlgMvaoiMhe"
      },
      "execution_count": null,
      "outputs": []
    },
    {
      "cell_type": "code",
      "source": [
        "def debug(pdf_path, page=0):\n",
        "    pages = convert_from_path(pdf_path, dpi=300)\n",
        "    img = cv2.cvtColor(np.array(pages[page]), cv2.COLOR_RGB2BGR)\n",
        "    thresh = preprocess(img)\n",
        "    rois = ROIS_PAGE1 if page == 0 else ROIS_PAGE2\n",
        "    start_q = 1 if page == 0 else 21\n",
        "    for q in range(start_q, start_q + (20 if page == 0 else 3)):\n",
        "        r = rois[q]\n",
        "        for ch in 'ABCD':\n",
        "            x,y,w,h = r[ch]\n",
        "            filled = is_filled((x,y,w,h), thresh)\n",
        "            color = (0,255,0) if filled else (0,0,255)\n",
        "            cv2.rectangle(img, (x,y), (x+w,y+h), color, 2)\n",
        "            cv2.putText(img, f\"{q}{ch}\", (x,y-5), cv2.FONT_HERSHEY_SIMPLEX, 0.5, color, 1)\n",
        "    from google.colab.patches import cv2_imshow\n",
        "    cv2_imshow(img)\n",
        "\n",
        "debug(pdf_paths[0])  # Green = filled"
      ],
      "metadata": {
        "id": "l--1jlbjiOSn"
      },
      "execution_count": null,
      "outputs": []
    }
  ]
}